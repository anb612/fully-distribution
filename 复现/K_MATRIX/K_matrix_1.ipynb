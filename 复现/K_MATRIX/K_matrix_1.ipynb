{
 "cells": [
  {
   "cell_type": "code",
   "execution_count": 55,
   "metadata": {},
   "outputs": [],
   "source": [
    "import numpy as np\n",
    "\n",
    "# 初始化参数和矩阵\n",
    "def initialize_matrices(n, m, Q_val=1):\n",
    "    P_i_j = np.eye(n)       # 初始矩阵 P_i^j\n",
    "    Q = Q_val * np.eye(n)   # 矩阵 Q\n",
    "    A = np.array([[0, 0, 0, 0], \n",
    "                  [-2, -5, -10, 0], \n",
    "                  [1, 2, -2, 1], \n",
    "                  [1, 0, 0, -2]])  # 系统矩阵 A\n",
    "    B = np.array([[1, 0],\n",
    "                  [-1, 0], \n",
    "                  [-1, 2], \n",
    "                  [1, 1]])  # 系统矩阵 B\n",
    "    K_i_j = np.zeros((m, n))  # 初始反馈增益矩阵 K 为零矩阵\n",
    "    \n",
    "    return P_i_j, Q, A, B, K_i_j\n",
    "\n"
   ]
  },
  {
   "cell_type": "code",
   "execution_count": 56,
   "metadata": {},
   "outputs": [],
   "source": [
    "# 定义计算 Hj 和 Kj 的辅助函数\n",
    "def compute_H_K(P_i_j, A, B):\n",
    "    H_i_j = A.T @ P_i_j + P_i_j @ A\n",
    "    K_i_j = -B.T @ P_i_j\n",
    "    return H_i_j, K_i_j\n",
    "\n",
    "# 定义更新 P_i_j 的函数\n",
    "def update_P(P_i_j, H_i_j, Q, K_i_j, K_i_j_prev, delta_j):\n",
    "    return P_i_j + delta_j * (H_i_j + Q - (K_i_j.T @ K_i_j))\n",
    "\n",
    "\n",
    "\n"
   ]
  },
  {
   "cell_type": "code",
   "execution_count": 57,
   "metadata": {},
   "outputs": [],
   "source": [
    "# 主求解循环\n",
    "def solve_K(n, m, epsilon=1, max_iters=10000):\n",
    "    # 初始化各种参数\n",
    "    P_i_j, Q, A, B, K_i_j = initialize_matrices(n, m, Q_val=1)\n",
    "    K_i_j_prev = K_i_j\n",
    "    P_i_j_0 = P_i_j\n",
    "    j = 0\n",
    "    k = 0\n",
    "    \n",
    "    while j < max_iters:\n",
    "        delta_j = 1 / (j + 1)  # 动态学习率\n",
    "        \n",
    "        # 计算 Hj 和 Kj\n",
    "        H_i_j, K_i_j = compute_H_K(P_i_j, A, B)\n",
    "\n",
    "        # 更新 P_i_j\n",
    "        P_i_j_next = update_P(P_i_j, H_i_j, Q, K_i_j, K_i_j_prev, delta_j)\n",
    "\n",
    "        # 限制 P 矩阵的范数\n",
    "        if np.linalg.norm(P_i_j_next, ord='fro') > 10 * (k + 1):\n",
    "            # P_i_j_next = (10 * (j + 1)) * P_i_j_next / np.linalg.norm(P_i_j_next, ord='fro')\n",
    "            P_i_j = P_i_j_0\n",
    "            k = k + 1\n",
    "        # 判断收敛条件\n",
    "        elif np.linalg.norm(P_i_j_next - P_i_j, ord='fro') < epsilon:\n",
    "            print(f\"Converged at iteration {j}\")\n",
    "            return K_i_j\n",
    "        \n",
    "        # 否则继续迭代\n",
    "        else :\n",
    "            P_i_j = P_i_j_next\n",
    "        K_i_j_prev = K_i_j\n",
    "        j += 1\n",
    "    \n",
    "    print(\"Maximum iterations reached without convergence.\")\n",
    "    return K_i_j\n",
    "\n"
   ]
  },
  {
   "cell_type": "code",
   "execution_count": 58,
   "metadata": {},
   "outputs": [
    {
     "name": "stdout",
     "output_type": "stream",
     "text": [
      "Converged at iteration 14\n",
      "Resulting K matrix: [[-0.88292477 -0.51986475  0.69146238 -0.50845309]\n",
      " [-0.52662722  0.77007608 -2.47633136 -0.30515638]]\n"
     ]
    }
   ],
   "source": [
    "# 使用\n",
    "n = 4  # 系统状态维度\n",
    "m = 2  # 控制输入维度\n",
    "K_matrix = solve_K(n, m)\n",
    "print(\"Resulting K matrix:\", K_matrix)"
   ]
  }
 ],
 "metadata": {
  "kernelspec": {
   "display_name": "pytorch",
   "language": "python",
   "name": "python3"
  },
  "language_info": {
   "codemirror_mode": {
    "name": "ipython",
    "version": 3
   },
   "file_extension": ".py",
   "mimetype": "text/x-python",
   "name": "python",
   "nbconvert_exporter": "python",
   "pygments_lexer": "ipython3",
   "version": "3.7.16"
  }
 },
 "nbformat": 4,
 "nbformat_minor": 2
}
