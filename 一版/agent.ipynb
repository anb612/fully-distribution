{
 "cells": [
  {
   "cell_type": "code",
   "execution_count": null,
   "metadata": {},
   "outputs": [
    {
     "ename": "IndentationError",
     "evalue": "expected an indented block (3908144510.py, line 8)",
     "output_type": "error",
     "traceback": [
      "\u001b[1;36m  File \u001b[1;32m\"C:\\Users\\an_b6\\AppData\\Local\\Temp\\ipykernel_49552\\3908144510.py\"\u001b[1;36m, line \u001b[1;32m8\u001b[0m\n\u001b[1;33m    def add_neighbor(self, neighbor):\u001b[0m\n\u001b[1;37m      ^\u001b[0m\n\u001b[1;31mIndentationError\u001b[0m\u001b[1;31m:\u001b[0m expected an indented block\n"
     ]
    }
   ],
   "source": [
    "import numpy as np\n",
    "class Agent():\n",
    "    def __init__(self, n, m, index, initial_position):\n",
    "        self.n = n\n",
    "        self.m = m\n",
    "        self.index = index\n",
    "        self.position = initial_position\n",
    "        # self.u_t = np.zero((m, 1))\n",
    "        self.neighbors_num = 0\n",
    "        self.neighbors = [] # 记录self与neighbor的边的index\n",
    "\n",
    "    def update_position(self, A, B, u_t, delta_t):\n",
    "        x_d = A @ self.position + B @ u_t\n",
    "        self.position += delta_t * x_d \n",
    "\n",
    "    def add_neighbor(self, neighbor):\n",
    "            if neighbor not in self.neighbors:\n",
    "                self.neighbors.append(neighbor)\n",
    "                self.neighbors_num += 1\n",
    "                neighbor.neighbors.append(self)\n",
    "                neighbor.neighbors_num += 1\n",
    "    \n",
    "    def is_neighbor(self, agent):\n",
    "        return agent in self.neighbors\n",
    "    \n",
    "\n"
   ]
  },
  {
   "cell_type": "code",
   "execution_count": null,
   "metadata": {},
   "outputs": [],
   "source": []
  }
 ],
 "metadata": {
  "kernelspec": {
   "display_name": "pytorch",
   "language": "python",
   "name": "python3"
  },
  "language_info": {
   "codemirror_mode": {
    "name": "ipython",
    "version": 3
   },
   "file_extension": ".py",
   "mimetype": "text/x-python",
   "name": "python",
   "nbconvert_exporter": "python",
   "pygments_lexer": "ipython3",
   "version": "3.7.16"
  }
 },
 "nbformat": 4,
 "nbformat_minor": 2
}
